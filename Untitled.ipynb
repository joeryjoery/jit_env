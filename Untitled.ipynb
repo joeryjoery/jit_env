{
 "cells": [
  {
   "cell_type": "code",
   "execution_count": 1,
   "id": "f62491e8-bf34-4677-92e9-c00116f68680",
   "metadata": {},
   "outputs": [],
   "source": [
    "%load_ext autoreload\n",
    "%autoreload 2"
   ]
  },
  {
   "cell_type": "code",
   "execution_count": 2,
   "id": "907aac65-345c-478d-a295-774f99dad74a",
   "metadata": {},
   "outputs": [],
   "source": [
    "from collections import OrderedDict"
   ]
  },
  {
   "cell_type": "code",
   "execution_count": 3,
   "id": "38bf742f-0aef-435d-ac53-28a4ff81d40d",
   "metadata": {},
   "outputs": [],
   "source": [
    "import jit_env\n",
    "jit_specs = jit_env.specs"
   ]
  },
  {
   "cell_type": "code",
   "execution_count": 4,
   "id": "a925918e-3a6e-4cfb-a737-6070524889f5",
   "metadata": {},
   "outputs": [],
   "source": [
    "import gymnasium as gym\n",
    "import jax\n",
    "\n",
    "tree = jax.tree_util\n",
    "\n",
    "import jax.numpy as jnp\n",
    "import numpy as np"
   ]
  },
  {
   "cell_type": "code",
   "execution_count": 38,
   "id": "82f7993a-625b-4e55-a216-b887bebf4349",
   "metadata": {},
   "outputs": [],
   "source": [
    "c = jit_env.specs.Tree(\n",
    "    leaves=[\n",
    "        jit_specs.Tuple(\n",
    "            jit_specs.DiscreteArray(1),\n",
    "            jit_env.specs.Tree(\n",
    "                leaves=[\n",
    "                    jit_specs.DiscreteArray(2)\n",
    "                ],\n",
    "                structure=jax.tree_util.tree_structure(\n",
    "                    dict(b=0)\n",
    "                ),\n",
    "                name='inner'\n",
    "            ),\n",
    "            name='tuple'\n",
    "        )\n",
    "    ],\n",
    "    structure=jax.tree_util.tree_structure(\n",
    "        dict(a=0)\n",
    "    ),\n",
    "    name='outer'\n",
    ")"
   ]
  },
  {
   "cell_type": "code",
   "execution_count": 39,
   "id": "38545cca-a8d2-40d6-b04e-b2aa3649a0af",
   "metadata": {},
   "outputs": [
    {
     "data": {
      "text/plain": [
       "Tree(name=outer,tree={'a': Tuple(name=tuple,tree=(\"'DiscreteArray(name=,shape=(),dtype=int32,minimum=0,maximum=0)'\", Tree(name=inner,tree={'b': '\"\\'DiscreteArray(name=,shape=(),dtype=int32,minimum=0,maximum=1)\\'\"'})))})"
      ]
     },
     "execution_count": 39,
     "metadata": {},
     "output_type": "execute_result"
    }
   ],
   "source": [
    "c"
   ]
  },
  {
   "cell_type": "code",
   "execution_count": 41,
   "id": "fb892e50-c498-4fec-a8dd-0170f4b2cd9a",
   "metadata": {},
   "outputs": [
    {
     "data": {
      "text/plain": [
       "{'a': (DiscreteArray(name=,shape=(),dtype=int32,minimum=0,maximum=0),\n",
       "  {'b': DiscreteArray(name=,shape=(),dtype=int32,minimum=0,maximum=1)})}"
      ]
     },
     "execution_count": 41,
     "metadata": {},
     "output_type": "execute_result"
    }
   ],
   "source": [
    "def f(s):\n",
    "    if isinstance(s, jit_specs.CompositeSpec):\n",
    "        unpack = s.as_spec_struct()\n",
    "        # print(s.name, 'unp', unpack)\n",
    "        res =  tree.tree_map(f, unpack, is_leaf=lambda z: z is not unpack)\n",
    "        # print(s.name, 'res', res)\n",
    "        return res\n",
    "    return s\n",
    "\n",
    "f(c)"
   ]
  },
  {
   "cell_type": "code",
   "execution_count": 38,
   "id": "0c1d33e2-8217-4bfe-830c-d1b359565dcc",
   "metadata": {},
   "outputs": [
    {
     "data": {
      "text/plain": [
       "{'a': Tree(name=,tree=('DiscreteArray(name=,shape=(),dtype=int32,minimum=0,maximum=0)', Tree(name=inner,tree={'b': Tree(name=inner,tree={'b': '\"\\'DiscreteArray(name=,shape=(),dtype=int32,minimum=0,maximum=1)\\'\"'})})))}"
      ]
     },
     "execution_count": 38,
     "metadata": {},
     "output_type": "execute_result"
    }
   ],
   "source": [
    "jit_specs.unpack_spec(c)"
   ]
  },
  {
   "cell_type": "code",
   "execution_count": 17,
   "id": "7db77afa-7737-4e42-9f8b-1d175c249ca4",
   "metadata": {},
   "outputs": [],
   "source": [
    "a, b = (jit_env.specs.Tree(\n",
    "                        leaves=[\n",
    "                            jit_specs.Tuple(\n",
    "                                jit_specs.DiscreteArray(1),\n",
    "                                jit_env.specs.Tree(\n",
    "                                    leaves=[\n",
    "                                        jit_specs.DiscreteArray(2)\n",
    "                                    ],\n",
    "                                    structure=jax.tree_util.tree_structure(\n",
    "                                        OrderedDict(b=0)\n",
    "                                    ),\n",
    "                                    name='inner'\n",
    "                                )\n",
    "                            )\n",
    "                        ],\n",
    "                        structure=jax.tree_util.tree_structure(\n",
    "                            OrderedDict(a=0)\n",
    "                        ),\n",
    "                        name='outer'\n",
    "                    ),\n",
    "                    gym.spaces.Dict({\n",
    "                        'a': gym.spaces.Tuple((\n",
    "                                gym.spaces.Discrete(1),\n",
    "                                gym.spaces.Dict({'b': gym.spaces.Discrete(2)})\n",
    "                        ))\n",
    "                    }))"
   ]
  },
  {
   "cell_type": "code",
   "execution_count": 34,
   "id": "42f3e27b-4961-4807-b243-601c5eef277b",
   "metadata": {},
   "outputs": [
    {
     "data": {
      "text/plain": [
       "OrderedDict([('a',\n",
       "              Tree(name=,tree=('DiscreteArray(name=,shape=(),dtype=int32,minimum=0,maximum=0)', Tree(name=inner,tree=OrderedDict([('b', Tree(name=inner,tree=OrderedDict([('b', '\"\\'DiscreteArray(name=,shape=(),dtype=int32,minimum=0,maximum=1)\\'\"')])))])))))])"
      ]
     },
     "execution_count": 34,
     "metadata": {},
     "output_type": "execute_result"
    }
   ],
   "source": [
    "jit_specs.unpack_spec(a)"
   ]
  },
  {
   "cell_type": "code",
   "execution_count": 28,
   "id": "b22c762d-7179-41f6-a55f-d3808632636e",
   "metadata": {},
   "outputs": [
    {
     "data": {
      "text/plain": [
       "[Tuple(name=,tree=('DiscreteArray(name=,shape=(),dtype=int32,minimum=0,maximum=0)', Tree(name=inner,tree=OrderedDict([('b', Tree(name=inner,tree=OrderedDict([('b', '\"\\'DiscreteArray(name=,shape=(),dtype=int32,minimum=0,maximum=1)\\'\"')])))]))))]"
      ]
     },
     "execution_count": 28,
     "metadata": {},
     "output_type": "execute_result"
    }
   ],
   "source": [
    "a.tree_flatten()[0]"
   ]
  },
  {
   "cell_type": "code",
   "execution_count": 21,
   "id": "48253095-f9dd-42c0-a956-9dac370270d8",
   "metadata": {},
   "outputs": [
    {
     "data": {
      "text/plain": [
       "[Tuple(name=,tree=('DiscreteArray(name=,shape=(),dtype=int32,minimum=0,maximum=0)', Tree(name=inner,tree=OrderedDict([('b', Tree(name=inner,tree=OrderedDict([('b', '\"\\'DiscreteArray(name=,shape=(),dtype=int32,minimum=0,maximum=1)\\'\"')])))]))))]"
      ]
     },
     "execution_count": 21,
     "metadata": {},
     "output_type": "execute_result"
    }
   ],
   "source": [
    "a.leave_specs"
   ]
  },
  {
   "cell_type": "code",
   "execution_count": 14,
   "id": "60bd7790-c5bb-495f-bb99-025c78bf165f",
   "metadata": {},
   "outputs": [
    {
     "data": {
      "text/plain": [
       "OrderedDict([('a',\n",
       "              Tuple(name=,tree=('DiscreteArray(name=,shape=(),dtype=int32,minimum=0,maximum=0)', Tree(name=inner,tree=OrderedDict([('b', Tree(name=inner,tree=OrderedDict([('b', '\"\\'DiscreteArray(name=,shape=(),dtype=int32,minimum=0,maximum=1)\\'\"')])))])))))])"
      ]
     },
     "execution_count": 14,
     "metadata": {},
     "output_type": "execute_result"
    }
   ],
   "source": [
    "a.as_spec_struct()"
   ]
  },
  {
   "cell_type": "code",
   "execution_count": 12,
   "id": "ae692e95-a849-47b5-a64d-92476b5d26b9",
   "metadata": {},
   "outputs": [
    {
     "data": {
      "text/plain": [
       "Dict('a': Tuple(Discrete(1), Dict('b': Discrete(2))))"
      ]
     },
     "execution_count": 12,
     "metadata": {},
     "output_type": "execute_result"
    }
   ],
   "source": [
    "b"
   ]
  },
  {
   "cell_type": "code",
   "execution_count": 3,
   "id": "008acd02-089f-422b-82c6-8d61167ee4cc",
   "metadata": {},
   "outputs": [],
   "source": [
    "\n",
    "\n",
    "def specs_to_gym_space(spec):\n",
    "    \"\"\"Convert a compatible `jit_env` spec into a gym space.\n",
    "\n",
    "    Note that jax DTypes convert to numpy DTypes in NDArray creation.\n",
    "    \"\"\"\n",
    "    print('branch', spec)\n",
    "    print()\n",
    "    if isinstance(spec, _specs.DiscreteArray):\n",
    "        if not spec.shape:\n",
    "            return gym.spaces.Discrete(\n",
    "                int(spec.num_values)\n",
    "            )\n",
    "        else:\n",
    "            return gym.spaces.MultiDiscrete(\n",
    "                np.asarray(spec.num_values, spec.dtype),\n",
    "                spec.dtype\n",
    "            )\n",
    "\n",
    "    elif isinstance(spec, _specs.BoundedArray):\n",
    "        return gym.spaces.Box(\n",
    "            np.asarray(spec.minimum, spec.dtype),\n",
    "            np.asarray(spec.maximum, spec.dtype),\n",
    "            spec.shape,\n",
    "            spec.dtype\n",
    "        )\n",
    "    elif isinstance(spec, _specs.Array):\n",
    "        with np.errstate(invalid='ignore'):  # suppresses `int(np.inf)`\n",
    "            return gym.spaces.Box(\n",
    "                np.broadcast_to(-np.inf, spec.shape).astype(spec.dtype),\n",
    "                np.broadcast_to(np.inf, spec.shape).astype(spec.dtype),\n",
    "                spec.shape,\n",
    "                spec.dtype\n",
    "            )\n",
    "    else:  # isinstance(spec, _specs.Tree):\n",
    "\n",
    "        # Unpacks the structure by 1 level.\n",
    "        print()\n",
    "        print('full', spec)\n",
    "        out = _jax.tree_map(specs_to_gym_space, spec)\n",
    "        print('out', out)\n",
    "        if isinstance(spec, _specs.Tree):\n",
    "            out = out.as_spec_struct()\n",
    "            print('unpack', out)\n",
    "\n",
    "        print()\n",
    "        print('out', out)\n",
    "        print('spec', spec)\n",
    "        print('specstruct', spec)\n",
    "        print()\n",
    "        if isinstance(out, Mapping):\n",
    "            print('dict')\n",
    "            print('dict',  gym.spaces.Dict(dict(out)))\n",
    "            return gym.spaces.Dict(out)\n",
    "        if isinstance(out, Sequence):\n",
    "            return gym.spaces.Tuple(out)\n",
    "\n",
    "    raise NotImplementedError(\n",
    "        f\"Conversion of {spec.__class__.__name__} is not supported!\"\n",
    "    )"
   ]
  },
  {
   "cell_type": "code",
   "execution_count": null,
   "id": "c22cd029-05e0-49ce-b439-00ddc3b912b5",
   "metadata": {},
   "outputs": [],
   "source": []
  }
 ],
 "metadata": {
  "kernelspec": {
   "display_name": "Python 3 (ipykernel)",
   "language": "python",
   "name": "python3"
  },
  "language_info": {
   "codemirror_mode": {
    "name": "ipython",
    "version": 3
   },
   "file_extension": ".py",
   "mimetype": "text/x-python",
   "name": "python",
   "nbconvert_exporter": "python",
   "pygments_lexer": "ipython3",
   "version": "3.9.7"
  }
 },
 "nbformat": 4,
 "nbformat_minor": 5
}
